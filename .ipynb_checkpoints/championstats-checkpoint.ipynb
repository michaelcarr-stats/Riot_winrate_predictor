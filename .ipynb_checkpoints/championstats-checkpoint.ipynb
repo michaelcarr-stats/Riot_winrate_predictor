{
 "cells": [
  {
   "cell_type": "code",
   "execution_count": 3,
   "metadata": {},
   "outputs": [],
   "source": [
    "#packages\n",
    "import numpy\n",
    "import pandas as pd\n",
    "import os\n",
    "from riotwatcher import LolWatcher, ApiError"
   ]
  },
  {
   "cell_type": "code",
   "execution_count": 7,
   "metadata": {},
   "outputs": [],
   "source": [
    "#need to put this into a class\n",
    "lol_watcher = LolWatcher('RGAPI-cfee8d23-cb0b-4865-8102-624e4f91d0c9') #api key"
   ]
  },
  {
   "cell_type": "code",
   "execution_count": 170,
   "metadata": {},
   "outputs": [],
   "source": [
    "def get_Player(region, name):\n",
    "    valid_region_names = ['oc1', 'na1', 'eun1']\n",
    "    if region in valid_region_names:\n",
    "        player = lol_watcher.summoner.by_name(region, name.lower())\n",
    "        return lol_watcher.league.by_summoner('oc1', player['id'])\n",
    "    else:\n",
    "        raise ValueError(f'region name is not a known region. Try one of {valid_region_names}')    \n",
    "        \n",
    "def get_CurrentPatchVersions(region):\n",
    "    valid_region_names = ['oce', 'na1', 'eune']\n",
    "    if region in valid_region_names:\n",
    "        return lol_watcher.data_dragon.versions_for_region(region)\n",
    "    else:\n",
    "        raise ValueError(f'region name is not a known region. Try one of {valid_region_names}')   \n",
    "\n",
    "def get_AllPatchVersions():\n",
    "    return [i for i in lol_watcher.data_dragon.versions_all() if not i.startswith('lolpatch')]\n",
    "\n",
    "def get_Champions(patchversion = 'latest'):\n",
    "    if patchversion == 'latest':\n",
    "        champions = [[(patch,champ) for champ in lol_watcher.data_dragon.champions(patch)['data']] for patch in [get_AllPatchVersions()[0]]] #nested by patch\n",
    "        return [val for sublist in champions for val in sublist] #compress into single list\n",
    "    elif patchversion == 'all':\n",
    "        champions = [[(patch,champ) for champ in lol_watcher.data_dragon.champions(patch)['data']] for patch in get_AllPatchVersions()] #nested by patch\n",
    "        return [val for sublist in champions for val in sublist] #compress into single list\n",
    "    else:\n",
    "        champions = [[(patch, champ) for champ in lol_watcher.data_dragon.champions(patch)['data']] for patch in patchversion] #nested by patch\n",
    "        return [val for sublist in champions for val in sublist] #compress into single list\n",
    "\n",
    "def get_ChampionStats(champions):\n",
    "        return [{'patch': patchversion, 'champion': champion, **lol_watcher.data_dragon.champions(patchversion)['data'][champion]['stats']} for patchversion, champion in champions]"
   ]
  },
  {
   "cell_type": "code",
   "execution_count": 26,
   "metadata": {},
   "outputs": [
    {
     "data": {
      "text/plain": [
       "{'id': 'SEQSoF72wi8iTaOpA9nzbbTHYr18_IChWRPi5aaM4xS6InI',\n",
       " 'accountId': 'x9Qkcg-r5nUX_taS5_gMS2kGHVZEzXWPHbuNAm3xxgnLy7zUv1gO1846',\n",
       " 'puuid': 'fpJpwXtRY-RMkbrJYfosY2W9PmmmbiVI0WTNsdbTbTEYN2_awMjQDKPQUkr75nVWpobn5wl1voPLvg',\n",
       " 'name': 'xCreedThoughtsx',\n",
       " 'profileIconId': 4903,\n",
       " 'revisionDate': 1668673245000,\n",
       " 'summonerLevel': 141}"
      ]
     },
     "execution_count": 26,
     "metadata": {},
     "output_type": "execute_result"
    }
   ],
   "source": [
    "get_Player('oc1', 'xcreedthoughtsx')"
   ]
  },
  {
   "cell_type": "code",
   "execution_count": 23,
   "metadata": {},
   "outputs": [
    {
     "data": {
      "text/plain": [
       "{'n': {'item': '12.22.1',\n",
       "  'rune': '7.23.1',\n",
       "  'mastery': '7.23.1',\n",
       "  'summoner': '12.22.1',\n",
       "  'champion': '12.22.1',\n",
       "  'profileicon': '12.22.1',\n",
       "  'map': '12.22.1',\n",
       "  'language': '12.22.1',\n",
       "  'sticker': '12.22.1'},\n",
       " 'v': '12.22.1',\n",
       " 'l': 'en_AU',\n",
       " 'cdn': 'https://ddragon.leagueoflegends.com/cdn',\n",
       " 'dd': '12.22.1',\n",
       " 'lg': '12.22.1',\n",
       " 'css': '12.22.1',\n",
       " 'profileiconmax': 28,\n",
       " 'store': None}"
      ]
     },
     "execution_count": 23,
     "metadata": {},
     "output_type": "execute_result"
    }
   ],
   "source": [
    "get_CurrentPatchVersions('oce')"
   ]
  },
  {
   "cell_type": "code",
   "execution_count": 28,
   "metadata": {},
   "outputs": [
    {
     "data": {
      "text/plain": [
       "[{'leagueId': 'a34f4d0f-6a66-49a9-8aef-6a64d9546c3b',\n",
       "  'queueType': 'RANKED_SOLO_5x5',\n",
       "  'tier': 'BRONZE',\n",
       "  'rank': 'IV',\n",
       "  'summonerId': 'SEQSoF72wi8iTaOpA9nzbbTHYr18_IChWRPi5aaM4xS6InI',\n",
       "  'summonerName': 'xCreedThoughtsx',\n",
       "  'leaguePoints': 0,\n",
       "  'wins': 16,\n",
       "  'losses': 27,\n",
       "  'veteran': False,\n",
       "  'inactive': False,\n",
       "  'freshBlood': False,\n",
       "  'hotStreak': False}]"
      ]
     },
     "execution_count": 28,
     "metadata": {},
     "output_type": "execute_result"
    }
   ],
   "source": [
    "lol_watcher.league.by_summoner('oc1', 'SEQSoF72wi8iTaOpA9nzbbTHYr18_IChWRPi5aaM4xS6InI')"
   ]
  },
  {
   "cell_type": "code",
   "execution_count": 29,
   "metadata": {},
   "outputs": [
    {
     "data": {
      "text/plain": [
       "{'n': {'item': '12.22.1',\n",
       "  'rune': '7.23.1',\n",
       "  'mastery': '7.23.1',\n",
       "  'summoner': '12.22.1',\n",
       "  'champion': '12.22.1',\n",
       "  'profileicon': '12.22.1',\n",
       "  'map': '12.22.1',\n",
       "  'language': '12.22.1',\n",
       "  'sticker': '12.22.1'},\n",
       " 'v': '12.22.1',\n",
       " 'l': 'en_AU',\n",
       " 'cdn': 'https://ddragon.leagueoflegends.com/cdn',\n",
       " 'dd': '12.22.1',\n",
       " 'lg': '12.22.1',\n",
       " 'css': '12.22.1',\n",
       " 'profileiconmax': 28,\n",
       " 'store': None}"
      ]
     },
     "execution_count": 29,
     "metadata": {},
     "output_type": "execute_result"
    }
   ],
   "source": [
    "lol_watcher.data_dragon.versions_for_region('oce')"
   ]
  },
  {
   "cell_type": "code",
   "execution_count": 36,
   "metadata": {},
   "outputs": [
    {
     "data": {
      "text/plain": [
       "{'hp': 650,\n",
       " 'hpperlevel': 114,\n",
       " 'mp': 0,\n",
       " 'mpperlevel': 0,\n",
       " 'movespeed': 345,\n",
       " 'armor': 38,\n",
       " 'armorperlevel': 4.45,\n",
       " 'spellblock': 32,\n",
       " 'spellblockperlevel': 2.05,\n",
       " 'attackrange': 175,\n",
       " 'hpregen': 3,\n",
       " 'hpregenperlevel': 1,\n",
       " 'mpregen': 0,\n",
       " 'mpregenperlevel': 0,\n",
       " 'crit': 0,\n",
       " 'critperlevel': 0,\n",
       " 'attackdamage': 60,\n",
       " 'attackdamageperlevel': 5,\n",
       " 'attackspeedperlevel': 2.5,\n",
       " 'attackspeed': 0.651}"
      ]
     },
     "execution_count": 36,
     "metadata": {},
     "output_type": "execute_result"
    }
   ],
   "source": [
    "[champion]['stats']"
   ]
  },
  {
   "cell_type": "code",
   "execution_count": 104,
   "metadata": {},
   "outputs": [
    {
     "data": {
      "text/plain": [
       "{'hp': 650,\n",
       " 'hpperlevel': 114,\n",
       " 'mp': 0,\n",
       " 'mpperlevel': 0,\n",
       " 'movespeed': 345,\n",
       " 'armor': 38,\n",
       " 'armorperlevel': 4.45,\n",
       " 'spellblock': 32,\n",
       " 'spellblockperlevel': 2.05,\n",
       " 'attackrange': 175,\n",
       " 'hpregen': 3,\n",
       " 'hpregenperlevel': 1,\n",
       " 'mpregen': 0,\n",
       " 'mpregenperlevel': 0,\n",
       " 'crit': 0,\n",
       " 'critperlevel': 0,\n",
       " 'attackdamage': 60,\n",
       " 'attackdamageperlevel': 5,\n",
       " 'attackspeedperlevel': 2.5,\n",
       " 'attackspeed': 0.651}"
      ]
     },
     "execution_count": 104,
     "metadata": {},
     "output_type": "execute_result"
    }
   ],
   "source": [
    "patchversion = '12.22.1'\n",
    "champion = 'Aatrox'\n",
    "\n",
    "lol_watcher.data_dragon.champions(patchversion)['data'][champion]['stats']"
   ]
  },
  {
   "cell_type": "code",
   "execution_count": 176,
   "metadata": {},
   "outputs": [],
   "source": [
    "champions = [get_Champions('latest')[0]]"
   ]
  },
  {
   "cell_type": "code",
   "execution_count": 205,
   "metadata": {},
   "outputs": [],
   "source": [
    "champions = [\n",
    "    ('12.22.1', 'Aatrox'),\n",
    "    ('12.21.1', 'Aatrox'),\n",
    "    ('12.22.1', 'Ahri'),\n",
    "    ('12.21.1', 'Ahri')\n",
    "]"
   ]
  },
  {
   "cell_type": "code",
   "execution_count": 206,
   "metadata": {},
   "outputs": [],
   "source": [
    "data = [{'patch': patchversion, 'champion': champion, **lol_watcher.data_dragon.champions(patchversion)['data'][champion]['stats']} for patchversion, champion in champions]"
   ]
  },
  {
   "cell_type": "code",
   "execution_count": 209,
   "metadata": {},
   "outputs": [
    {
     "data": {
      "text/html": [
       "<div>\n",
       "<style scoped>\n",
       "    .dataframe tbody tr th:only-of-type {\n",
       "        vertical-align: middle;\n",
       "    }\n",
       "\n",
       "    .dataframe tbody tr th {\n",
       "        vertical-align: top;\n",
       "    }\n",
       "\n",
       "    .dataframe thead th {\n",
       "        text-align: right;\n",
       "    }\n",
       "</style>\n",
       "<table border=\"1\" class=\"dataframe\">\n",
       "  <thead>\n",
       "    <tr style=\"text-align: right;\">\n",
       "      <th></th>\n",
       "      <th>patch</th>\n",
       "      <th>champion</th>\n",
       "      <th>hp</th>\n",
       "      <th>hpperlevel</th>\n",
       "      <th>mp</th>\n",
       "      <th>mpperlevel</th>\n",
       "      <th>movespeed</th>\n",
       "      <th>armor</th>\n",
       "      <th>armorperlevel</th>\n",
       "      <th>spellblock</th>\n",
       "      <th>...</th>\n",
       "      <th>hpregen</th>\n",
       "      <th>hpregenperlevel</th>\n",
       "      <th>mpregen</th>\n",
       "      <th>mpregenperlevel</th>\n",
       "      <th>crit</th>\n",
       "      <th>critperlevel</th>\n",
       "      <th>attackdamage</th>\n",
       "      <th>attackdamageperlevel</th>\n",
       "      <th>attackspeedperlevel</th>\n",
       "      <th>attackspeed</th>\n",
       "    </tr>\n",
       "  </thead>\n",
       "  <tbody>\n",
       "    <tr>\n",
       "      <th>0</th>\n",
       "      <td>12.22.1</td>\n",
       "      <td>Aatrox</td>\n",
       "      <td>650</td>\n",
       "      <td>114</td>\n",
       "      <td>0</td>\n",
       "      <td>0</td>\n",
       "      <td>345</td>\n",
       "      <td>38</td>\n",
       "      <td>4.45</td>\n",
       "      <td>32</td>\n",
       "      <td>...</td>\n",
       "      <td>3.0</td>\n",
       "      <td>1.0</td>\n",
       "      <td>0</td>\n",
       "      <td>0.0</td>\n",
       "      <td>0</td>\n",
       "      <td>0</td>\n",
       "      <td>60</td>\n",
       "      <td>5</td>\n",
       "      <td>2.5</td>\n",
       "      <td>0.651</td>\n",
       "    </tr>\n",
       "    <tr>\n",
       "      <th>1</th>\n",
       "      <td>12.21.1</td>\n",
       "      <td>Aatrox</td>\n",
       "      <td>650</td>\n",
       "      <td>114</td>\n",
       "      <td>0</td>\n",
       "      <td>0</td>\n",
       "      <td>345</td>\n",
       "      <td>38</td>\n",
       "      <td>4.45</td>\n",
       "      <td>32</td>\n",
       "      <td>...</td>\n",
       "      <td>3.0</td>\n",
       "      <td>1.0</td>\n",
       "      <td>0</td>\n",
       "      <td>0.0</td>\n",
       "      <td>0</td>\n",
       "      <td>0</td>\n",
       "      <td>60</td>\n",
       "      <td>5</td>\n",
       "      <td>2.5</td>\n",
       "      <td>0.651</td>\n",
       "    </tr>\n",
       "    <tr>\n",
       "      <th>2</th>\n",
       "      <td>12.22.1</td>\n",
       "      <td>Ahri</td>\n",
       "      <td>570</td>\n",
       "      <td>96</td>\n",
       "      <td>418</td>\n",
       "      <td>25</td>\n",
       "      <td>330</td>\n",
       "      <td>18</td>\n",
       "      <td>4.70</td>\n",
       "      <td>30</td>\n",
       "      <td>...</td>\n",
       "      <td>2.5</td>\n",
       "      <td>0.6</td>\n",
       "      <td>8</td>\n",
       "      <td>0.8</td>\n",
       "      <td>0</td>\n",
       "      <td>0</td>\n",
       "      <td>53</td>\n",
       "      <td>3</td>\n",
       "      <td>2.0</td>\n",
       "      <td>0.668</td>\n",
       "    </tr>\n",
       "    <tr>\n",
       "      <th>3</th>\n",
       "      <td>12.21.1</td>\n",
       "      <td>Ahri</td>\n",
       "      <td>570</td>\n",
       "      <td>96</td>\n",
       "      <td>418</td>\n",
       "      <td>25</td>\n",
       "      <td>330</td>\n",
       "      <td>18</td>\n",
       "      <td>4.70</td>\n",
       "      <td>30</td>\n",
       "      <td>...</td>\n",
       "      <td>2.5</td>\n",
       "      <td>0.6</td>\n",
       "      <td>8</td>\n",
       "      <td>0.8</td>\n",
       "      <td>0</td>\n",
       "      <td>0</td>\n",
       "      <td>53</td>\n",
       "      <td>3</td>\n",
       "      <td>2.0</td>\n",
       "      <td>0.668</td>\n",
       "    </tr>\n",
       "  </tbody>\n",
       "</table>\n",
       "<p>4 rows × 22 columns</p>\n",
       "</div>"
      ],
      "text/plain": [
       "     patch champion   hp  hpperlevel   mp  mpperlevel  movespeed  armor  \\\n",
       "0  12.22.1   Aatrox  650         114    0           0        345     38   \n",
       "1  12.21.1   Aatrox  650         114    0           0        345     38   \n",
       "2  12.22.1     Ahri  570          96  418          25        330     18   \n",
       "3  12.21.1     Ahri  570          96  418          25        330     18   \n",
       "\n",
       "   armorperlevel  spellblock  ...  hpregen  hpregenperlevel  mpregen  \\\n",
       "0           4.45          32  ...      3.0              1.0        0   \n",
       "1           4.45          32  ...      3.0              1.0        0   \n",
       "2           4.70          30  ...      2.5              0.6        8   \n",
       "3           4.70          30  ...      2.5              0.6        8   \n",
       "\n",
       "   mpregenperlevel  crit  critperlevel  attackdamage  attackdamageperlevel  \\\n",
       "0              0.0     0             0            60                     5   \n",
       "1              0.0     0             0            60                     5   \n",
       "2              0.8     0             0            53                     3   \n",
       "3              0.8     0             0            53                     3   \n",
       "\n",
       "   attackspeedperlevel  attackspeed  \n",
       "0                  2.5        0.651  \n",
       "1                  2.5        0.651  \n",
       "2                  2.0        0.668  \n",
       "3                  2.0        0.668  \n",
       "\n",
       "[4 rows x 22 columns]"
      ]
     },
     "execution_count": 209,
     "metadata": {},
     "output_type": "execute_result"
    }
   ],
   "source": [
    "pd.DataFrame.from_dict(data)"
   ]
  },
  {
   "cell_type": "code",
   "execution_count": 211,
   "metadata": {},
   "outputs": [
    {
     "data": {
      "text/html": [
       "<div>\n",
       "<style scoped>\n",
       "    .dataframe tbody tr th:only-of-type {\n",
       "        vertical-align: middle;\n",
       "    }\n",
       "\n",
       "    .dataframe tbody tr th {\n",
       "        vertical-align: top;\n",
       "    }\n",
       "\n",
       "    .dataframe thead th {\n",
       "        text-align: right;\n",
       "    }\n",
       "</style>\n",
       "<table border=\"1\" class=\"dataframe\">\n",
       "  <thead>\n",
       "    <tr style=\"text-align: right;\">\n",
       "      <th></th>\n",
       "      <th>0</th>\n",
       "      <th>1</th>\n",
       "    </tr>\n",
       "  </thead>\n",
       "  <tbody>\n",
       "    <tr>\n",
       "      <th>0</th>\n",
       "      <td>12.22.1</td>\n",
       "      <td>Aatrox</td>\n",
       "    </tr>\n",
       "    <tr>\n",
       "      <th>1</th>\n",
       "      <td>12.22.1</td>\n",
       "      <td>Ahri</td>\n",
       "    </tr>\n",
       "    <tr>\n",
       "      <th>2</th>\n",
       "      <td>12.22.1</td>\n",
       "      <td>Akali</td>\n",
       "    </tr>\n",
       "    <tr>\n",
       "      <th>3</th>\n",
       "      <td>12.22.1</td>\n",
       "      <td>Akshan</td>\n",
       "    </tr>\n",
       "    <tr>\n",
       "      <th>4</th>\n",
       "      <td>12.22.1</td>\n",
       "      <td>Alistar</td>\n",
       "    </tr>\n",
       "    <tr>\n",
       "      <th>...</th>\n",
       "      <td>...</td>\n",
       "      <td>...</td>\n",
       "    </tr>\n",
       "    <tr>\n",
       "      <th>157</th>\n",
       "      <td>12.22.1</td>\n",
       "      <td>Zeri</td>\n",
       "    </tr>\n",
       "    <tr>\n",
       "      <th>158</th>\n",
       "      <td>12.22.1</td>\n",
       "      <td>Ziggs</td>\n",
       "    </tr>\n",
       "    <tr>\n",
       "      <th>159</th>\n",
       "      <td>12.22.1</td>\n",
       "      <td>Zilean</td>\n",
       "    </tr>\n",
       "    <tr>\n",
       "      <th>160</th>\n",
       "      <td>12.22.1</td>\n",
       "      <td>Zoe</td>\n",
       "    </tr>\n",
       "    <tr>\n",
       "      <th>161</th>\n",
       "      <td>12.22.1</td>\n",
       "      <td>Zyra</td>\n",
       "    </tr>\n",
       "  </tbody>\n",
       "</table>\n",
       "<p>162 rows × 2 columns</p>\n",
       "</div>"
      ],
      "text/plain": [
       "           0        1\n",
       "0    12.22.1   Aatrox\n",
       "1    12.22.1     Ahri\n",
       "2    12.22.1    Akali\n",
       "3    12.22.1   Akshan\n",
       "4    12.22.1  Alistar\n",
       "..       ...      ...\n",
       "157  12.22.1     Zeri\n",
       "158  12.22.1    Ziggs\n",
       "159  12.22.1   Zilean\n",
       "160  12.22.1      Zoe\n",
       "161  12.22.1     Zyra\n",
       "\n",
       "[162 rows x 2 columns]"
      ]
     },
     "execution_count": 211,
     "metadata": {},
     "output_type": "execute_result"
    }
   ],
   "source": [
    "pd.DataFrame(get_Champions()) #make get_champions output a dictionary so that you can create data frame - carefull as this will effect get_championstats"
   ]
  },
  {
   "cell_type": "code",
   "execution_count": null,
   "metadata": {},
   "outputs": [],
   "source": []
  }
 ],
 "metadata": {
  "kernelspec": {
   "display_name": "Python 3",
   "language": "python",
   "name": "python3"
  },
  "language_info": {
   "codemirror_mode": {
    "name": "ipython",
    "version": 3
   },
   "file_extension": ".py",
   "mimetype": "text/x-python",
   "name": "python",
   "nbconvert_exporter": "python",
   "pygments_lexer": "ipython3",
   "version": "3.8.5"
  }
 },
 "nbformat": 4,
 "nbformat_minor": 4
}
