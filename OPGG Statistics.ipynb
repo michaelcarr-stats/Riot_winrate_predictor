{
 "cells": [
  {
   "cell_type": "code",
   "execution_count": 1,
   "metadata": {},
   "outputs": [],
   "source": [
    "import numpy\n",
    "import pandas as pd\n",
    "import os\n",
    "import requests\n",
    "from bs4 import BeautifulSoup "
   ]
  },
  {
   "cell_type": "code",
   "execution_count": 3,
   "metadata": {},
   "outputs": [],
   "source": [
    "header = {'User-Agent': 'Mozilla/5.0 (Macintosh; Intel Mac OS X 10_13_6) AppleWebKit/537.36 (KHTML, like Gecko) Chrome/70.0.3538.77 Safari/537.36'}"
   ]
  },
  {
   "cell_type": "code",
   "execution_count": 27,
   "metadata": {},
   "outputs": [],
   "source": [
    "url = 'https://www.op.gg/summoners/na/COOKIEMONSTER123/champions'\n",
    "request = requests.get(url,headers = header, timeout = 10) \n",
    "\n",
    "soup = BeautifulSoup(request.content, 'html') \n",
    "\n",
    "# https://github.com/jlgre/opgg_scraper/blob/master/build.py"
   ]
  },
  {
   "cell_type": "code",
   "execution_count": 10,
   "metadata": {},
   "outputs": [],
   "source": [
    "class PullOPGGStats:\n",
    "    \"\"\"\n",
    "        Blueprint for op.gg statistics\n",
    "        It's a constructor, innit?\n",
    "    \"\"\"\n",
    "    def __init__(self, summoner_name):\n",
    "        #self.summoner_name = summoner_name\n",
    "        self.header = {'User-Agent': 'Mozilla/5.0 (Macintosh; Intel Mac OS X 10_13_6) AppleWebKit/537.36 (KHTML, like Gecko) Chrome/70.0.3538.77 Safari/537.36'}\n",
    "        self.summoner_name = summoner_name\n",
    "        self.url = 'https://www.op.gg/summoners/na/' + summoner_name + '/champions'\n",
    "        self.request = requests.get(self.url,headers = self.header, timeout = 10) \n",
    "        self.soup = BeautifulSoup(self.request.content, 'html') \n",
    "    \n",
    "    # Just have a simple, current rank function.\n",
    "    def current_rank(self):\n",
    "        return print(soup.find('div', {'class': 'tier'}).get_text())\n",
    "    \n",
    "    \n",
    "    def champion_table(self):\n",
    "        "
   ]
  },
  {
   "cell_type": "code",
   "execution_count": 11,
   "metadata": {},
   "outputs": [
    {
     "name": "stdout",
     "output_type": "stream",
     "text": [
      "grandmaster\n"
     ]
    }
   ],
   "source": [
    "op_gg = PullOPGGStats(summoner_name = 'COOKIEMONSTER123')\n",
    "op_gg.current_rank()"
   ]
  },
  {
   "cell_type": "code",
   "execution_count": 65,
   "metadata": {},
   "outputs": [],
   "source": [
    "#soup.prettify()"
   ]
  },
  {
   "cell_type": "code",
   "execution_count": 66,
   "metadata": {},
   "outputs": [],
   "source": [
    "#soup.body"
   ]
  },
  {
   "cell_type": "code",
   "execution_count": 12,
   "metadata": {},
   "outputs": [],
   "source": [
    "soup.find('div', {'id': 'content-container', 'class': 'ratio'})"
   ]
  },
  {
   "cell_type": "code",
   "execution_count": 13,
   "metadata": {},
   "outputs": [],
   "source": [
    "soup.find(\"table\", {\"class\": \"champion-overview__table\"})"
   ]
  },
  {
   "cell_type": "code",
   "execution_count": 14,
   "metadata": {},
   "outputs": [
    {
     "data": {
      "text/plain": [
       "'Win Rate 51%'"
      ]
     },
     "execution_count": 14,
     "metadata": {},
     "output_type": "execute_result"
    }
   ],
   "source": [
    "soup.find('div', {'class': 'ratio'}).get_text()"
   ]
  },
  {
   "cell_type": "code",
   "execution_count": 15,
   "metadata": {},
   "outputs": [
    {
     "data": {
      "text/plain": [
       "'grandmaster'"
      ]
     },
     "execution_count": 15,
     "metadata": {},
     "output_type": "execute_result"
    }
   ],
   "source": [
    "soup.find('div', {'class': 'tier'}).get_text()"
   ]
  },
  {
   "cell_type": "code",
   "execution_count": 39,
   "metadata": {},
   "outputs": [],
   "source": [
    "url = 'https://www.op.gg/summoners/na/COOKIEMONSTER123/champions'\n",
    "request = requests.get(url,headers = header, timeout = 10) \n",
    "\n",
    "soup = BeautifulSoup(request.content, 'html') "
   ]
  },
  {
   "cell_type": "code",
   "execution_count": 44,
   "metadata": {},
   "outputs": [
    {
     "data": {
      "text/plain": [
       "[]"
      ]
     },
     "execution_count": 44,
     "metadata": {},
     "output_type": "execute_result"
    }
   ],
   "source": [
    "soup.findAll(text = 'Naut')"
   ]
  },
  {
   "cell_type": "code",
   "execution_count": 17,
   "metadata": {},
   "outputs": [],
   "source": [
    "soup.find('div', {'class' : 'css-8xctw3 exo2f13'})"
   ]
  },
  {
   "cell_type": "code",
   "execution_count": 32,
   "metadata": {},
   "outputs": [],
   "source": [
    "temp_container = soup.find('div', {'id' : 'content-container'})"
   ]
  },
  {
   "cell_type": "code",
   "execution_count": 22,
   "metadata": {},
   "outputs": [],
   "source": [
    "temp_container.find('div', {'class':'container'})"
   ]
  },
  {
   "cell_type": "code",
   "execution_count": 31,
   "metadata": {},
   "outputs": [
    {
     "name": "stdout",
     "output_type": "stream",
     "text": [
      "<div class=\"css-12b464j e7m7tjk4\" id=\"content-container\"><div class=\"content\"><div class=\"filter-container\"><div class=\"css-0 e1t1quh80\"><style data-emotion=\"css 1xg3bej\">.css-1xg3bej{font-size:12px;line-height:16px;position:absolute;visibility:hidden;}.css-1xg3bej:after{position:absolute;content:\"\";top:50%;right:15px;width:0;height:0;border:5px solid transparent;border-top-color:#9AA4AF;border-top-color:var(--gray400);margin-top:-2.5px;}.css-1xg3bej+.css-1xg3bej{margin-left:8px;}</style><div class=\"css-1xg3bej e5qh6tw3\"><label class=\"hidden\" for=\"dropdwonSelect\">Select</label><select id=\"dropdwonSelect\"><option selected=\"\" value=\"19\"> Season 2022</option><option value=\"17\"> Season 2021</option><option value=\"15\"> Season 2020</option><option value=\"13\"> Season 9</option><option value=\"11\"> Season 8</option><option value=\"7\"> Season 7</option><option value=\"6\"> Season 6</option><option value=\"5\"> Season 5</option><option value=\"4\"> Season 4</option><option value=\"3\"> Season 3</option><option value=\"2\"> Season 2</option><option value=\"1\"> Season 1</option></select></div><style data-emotion=\"css 5lti0n\">.css-5lti0n{position:relative;display:inline-block;vertical-align:middle;}.css-5lti0n .e5qh6tw2+div{position:absolute;left:0;right:0;top:44px;z-index:10000000;overflow-y:auto;border-radius:4px;box-shadow:0 8px 12px 0 rgba(0, 0, 0, 0.2);}</style><div class=\"css-5lti0n e5qh6tw1\"><div><style data-emotion=\"css ee3hyw\">.css-ee3hyw{display:-webkit-box;display:-webkit-flex;display:-ms-flexbox;display:flex;-webkit-align-items:center;-webkit-box-align:center;-ms-flex-align:center;align-items:center;overflow:hidden;position:relative;height:40px;border-radius:4px;text-align:left;box-sizing:border-box;border:1px solid;border-color:#DBE0E4;border-color:var(--gray250);background:#FFF;background:var(--gray0);padding:0 32px 0 16px;}.css-ee3hyw div{-webkit-flex-basis:24px;-ms-flex-preferred-size:24px;flex-basis:24px;}.css-ee3hyw span{display:block;white-space:nowrap;text-overflow:ellipsis;overflow:hidden;}.css-ee3hyw div+span{margin-left:4px;-webkit-flex:1;-ms-flex:1;flex:1;}.css-ee3hyw:hover{background:#F7F7F9;background:var(--gray100);}.css-ee3hyw:after{position:absolute;content:\"\";top:50%;right:15px;width:0;height:0;border:5px solid transparent;margin-top:-2.5px;border-top-color:#9AA4AF;border-top-color:var(--gray400);}.css-ee3hyw img{margin-right:4px;}.css-ee3hyw span{font-size:14px;line-height:20px;color:#202D37;color:var(--gray900);}</style><button class=\"css-ee3hyw e5qh6tw2\" type=\"button\"><span>Season 2022</span></button></div></div></div><style data-emotion=\"css 1f3noih\">.css-1f3noih{display:-webkit-inline-box;display:-webkit-inline-flex;display:-ms-inline-flexbox;display:inline-flex;-webkit-align-items:center;-webkit-box-align:center;-ms-flex-align:center;align-items:center;}.css-1f3noih >*:first-of-type{border-radius:4px 0 0 4px;}.css-1f3noih >*:last-of-type{border-radius:0 4px 4px 0;}.css-1f3noih >*:not(:last-of-type){border-right:none;}.css-1f3noih >*:not(:first-of-type):not(:last-of-type){border-radius:0;}</style><div class=\"css-1f3noih e1g0z3cq0\"><style data-emotion=\"css kidynx\">.css-kidynx{font-size:14px;line-height:20px;padding:0 16px;height:40px;font-weight:bold;color:#FFF;background-color:#5383E8;background-color:var(--main500);display:inline-block;vertical-align:middle;border-radius:4px;background-repeat:no-repeat;-webkit-background-position:center;background-position:center;}.css-kidynx:hover{background-color:#4171D6;}[data-theme=\"dark\"] .css-kidynx:hover{background-color:#81ACFF;}.css-kidynx:hover{background-repeat:no-repeat;-webkit-background-position:center;background-position:center;}.css-kidynx >*{display:inline-block;vertical-align:middle;}.css-kidynx:disabled{border:1px solid transparent;font-weight:normal;color:#C3CBD1;color:var(--gray300);background:#ebeef1;background:var(--gray200);}</style><button class=\"css-kidynx e1g0z3cq3\" type=\"button\">Total</button><style data-emotion=\"css lox99k\">.css-lox99k{font-size:14px;line-height:20px;padding:0 16px;height:40px;color:#202D37;color:var(--gray900);background-color:#FFF;background-color:var(--gray0);border:1px solid;border-color:#DBE0E4;border-color:var(--gray250);display:inline-block;vertical-align:middle;border-radius:4px;background-repeat:no-repeat;-webkit-background-position:center;background-position:center;}.css-lox99k:hover{background-color:#F7F7F9;background-color:var(--gray100);}.css-lox99k:hover{background-repeat:no-repeat;-webkit-background-position:center;background-position:center;}.css-lox99k >*{display:inline-block;vertical-align:middle;}.css-lox99k:disabled{border:1px solid transparent;font-weight:normal;color:#C3CBD1;color:var(--gray300);background:#ebeef1;background:var(--gray200);}</style><button class=\"css-lox99k e1g0z3cq3\" type=\"button\">Ranked Solo</button><button class=\"css-lox99k e1g0z3cq3\" type=\"button\">Ranked Flex</button><button class=\"css-lox99k e1g0z3cq3\" type=\"button\">Normal</button></div></div><style data-emotion=\"css 147gr6a\">.css-147gr6a{table-layout:auto;width:100%;border-radius:4px;}.css-147gr6a thead th:first-of-type{border-radius:4px 0 0 0;}.css-147gr6a thead th:last-of-type{border-radius:0 4px 0 0;}.css-147gr6a tbody tr:last-of-type td:first-of-type{border-radius:0 0 0 4px;}.css-147gr6a tbody tr:last-of-type td:last-of-type{border-radius:0 0 4px 0;}.css-147gr6a caption{display:none;}.css-147gr6a th,.css-147gr6a td{box-sizing:border-box;font-weight:normal;vertical-align:middle;padding:4px;}.css-147gr6a th:first-of-type,.css-147gr6a td:first-of-type{padding-left:12px;}.css-147gr6a th:last-of-type,.css-147gr6a td:last-of-type{padding-right:12px;}.css-147gr6a th.adTd,.css-147gr6a td.adTd{padding:0!important;}.css-147gr6a thead th,.css-147gr6a thead td{position:relative;height:32px;-webkit-user-select:none;-moz-user-select:none;-ms-user-select:none;user-select:none;background:#F7F7F9;background:var(--gray100);color:#9AA4AF;color:var(--gray400);font-size:12px;line-height:16px;border-bottom:1px solid;border-color:#ebeef1;border-color:var(--gray200);box-sizing:border-box;}.css-147gr6a tbody th,.css-147gr6a tbody td{text-align:center;border-bottom:1px solid;border-color:#ebeef1;border-color:var(--gray200);}.css-147gr6a tbody th[align=\"left\"],.css-147gr6a tbody td[align=\"left\"]{text-align:left;}.css-147gr6a tbody th[align=\"right\"],.css-147gr6a tbody td[align=\"right\"]{text-align:right;}.css-147gr6a tbody tr:last-of-type th,.css-147gr6a tbody tr:last-of-type td{border-bottom:0 none;}.css-147gr6a tbody tr:hover th,.css-147gr6a tbody tr:hover td{background:#F7F7F9;background:var(--gray100);}.css-147gr6a .green{color:#00BBA3;color:var(--teal500);}.css-147gr6a .blue{color:#0093FF;color:var(--blue500);}.css-147gr6a .orange{color:#FF8200;color:var(--orange500);}</style><table class=\"css-147gr6a exo2f213\"><caption>Summoner's Champion Information</caption><tbody><tr><style data-emotion=\"css 1wvfkid\">.css-1wvfkid{font-size:12px;line-height:16px;text-align:center!important;font-weight:normal;color:#57646F;color:var(--gray600);background:#FFF;background:var(--gray0);}.css-1wvfkid >*{display:inline-block;vertical-align:middle;}.css-1wvfkid strong{font-size:12px;font-weight:bold;color:#202D37;color:var(--gray900);}.css-1wvfkid small{font-size:12px;font-weight:normal;color:#758592;color:var(--gray500);}</style><td class=\"css-1wvfkid exo2f211\"><style data-emotion=\"css 1p6wbo1\">.css-1p6wbo1{height:300px;display:-webkit-box;display:-webkit-flex;display:-ms-flexbox;display:flex;-webkit-align-items:center;-webkit-box-align:center;-ms-flex-align:center;align-items:center;-webkit-box-pack:center;-ms-flex-pack:center;-webkit-justify-content:center;justify-content:center;}</style><div class=\"css-1p6wbo1 e7m7tjk2\"><style data-emotion=\"css 151wajb\">.css-151wajb{display:inline-block;width:18px;height:18px;border:2px solid #4171D6;border-top-color:transparent;border-radius:50%;-webkit-animation:spin 0.6s infinite;animation:spin 0.6s infinite;}@-webkit-keyframes spin{from{-webkit-transform:rotate(0deg);-moz-transform:rotate(0deg);-ms-transform:rotate(0deg);transform:rotate(0deg);}to{-webkit-transform:rotate(360deg);-moz-transform:rotate(360deg);-ms-transform:rotate(360deg);transform:rotate(360deg);}}@keyframes spin{from{-webkit-transform:rotate(0deg);-moz-transform:rotate(0deg);-ms-transform:rotate(0deg);transform:rotate(0deg);}to{-webkit-transform:rotate(360deg);-moz-transform:rotate(360deg);-ms-transform:rotate(360deg);transform:rotate(360deg);}}</style><span class=\"css-151wajb e1mnv9ea0\"></span></div></td></tr></tbody></table></div></div>\n"
     ]
    }
   ],
   "source": [
    "print(soup.find('div', {'id' : 'content-container'}))"
   ]
  },
  {
   "cell_type": "code",
   "execution_count": 36,
   "metadata": {},
   "outputs": [
    {
     "name": "stdout",
     "output_type": "stream",
     "text": [
      "<div class=\"content\"><div class=\"filter-container\"><div class=\"css-0 e1t1quh80\"><style data-emotion=\"css 1xg3bej\">.css-1xg3bej{font-size:12px;line-height:16px;position:absolute;visibility:hidden;}.css-1xg3bej:after{position:absolute;content:\"\";top:50%;right:15px;width:0;height:0;border:5px solid transparent;border-top-color:#9AA4AF;border-top-color:var(--gray400);margin-top:-2.5px;}.css-1xg3bej+.css-1xg3bej{margin-left:8px;}</style><div class=\"css-1xg3bej e5qh6tw3\"><label class=\"hidden\" for=\"dropdwonSelect\">Select</label><select id=\"dropdwonSelect\"><option selected=\"\" value=\"19\"> Season 2022</option><option value=\"17\"> Season 2021</option><option value=\"15\"> Season 2020</option><option value=\"13\"> Season 9</option><option value=\"11\"> Season 8</option><option value=\"7\"> Season 7</option><option value=\"6\"> Season 6</option><option value=\"5\"> Season 5</option><option value=\"4\"> Season 4</option><option value=\"3\"> Season 3</option><option value=\"2\"> Season 2</option><option value=\"1\"> Season 1</option></select></div><style data-emotion=\"css 5lti0n\">.css-5lti0n{position:relative;display:inline-block;vertical-align:middle;}.css-5lti0n .e5qh6tw2+div{position:absolute;left:0;right:0;top:44px;z-index:10000000;overflow-y:auto;border-radius:4px;box-shadow:0 8px 12px 0 rgba(0, 0, 0, 0.2);}</style><div class=\"css-5lti0n e5qh6tw1\"><div><style data-emotion=\"css ee3hyw\">.css-ee3hyw{display:-webkit-box;display:-webkit-flex;display:-ms-flexbox;display:flex;-webkit-align-items:center;-webkit-box-align:center;-ms-flex-align:center;align-items:center;overflow:hidden;position:relative;height:40px;border-radius:4px;text-align:left;box-sizing:border-box;border:1px solid;border-color:#DBE0E4;border-color:var(--gray250);background:#FFF;background:var(--gray0);padding:0 32px 0 16px;}.css-ee3hyw div{-webkit-flex-basis:24px;-ms-flex-preferred-size:24px;flex-basis:24px;}.css-ee3hyw span{display:block;white-space:nowrap;text-overflow:ellipsis;overflow:hidden;}.css-ee3hyw div+span{margin-left:4px;-webkit-flex:1;-ms-flex:1;flex:1;}.css-ee3hyw:hover{background:#F7F7F9;background:var(--gray100);}.css-ee3hyw:after{position:absolute;content:\"\";top:50%;right:15px;width:0;height:0;border:5px solid transparent;margin-top:-2.5px;border-top-color:#9AA4AF;border-top-color:var(--gray400);}.css-ee3hyw img{margin-right:4px;}.css-ee3hyw span{font-size:14px;line-height:20px;color:#202D37;color:var(--gray900);}</style><button class=\"css-ee3hyw e5qh6tw2\" type=\"button\"><span>Season 2022</span></button></div></div></div><style data-emotion=\"css 1f3noih\">.css-1f3noih{display:-webkit-inline-box;display:-webkit-inline-flex;display:-ms-inline-flexbox;display:inline-flex;-webkit-align-items:center;-webkit-box-align:center;-ms-flex-align:center;align-items:center;}.css-1f3noih >*:first-of-type{border-radius:4px 0 0 4px;}.css-1f3noih >*:last-of-type{border-radius:0 4px 4px 0;}.css-1f3noih >*:not(:last-of-type){border-right:none;}.css-1f3noih >*:not(:first-of-type):not(:last-of-type){border-radius:0;}</style><div class=\"css-1f3noih e1g0z3cq0\"><style data-emotion=\"css kidynx\">.css-kidynx{font-size:14px;line-height:20px;padding:0 16px;height:40px;font-weight:bold;color:#FFF;background-color:#5383E8;background-color:var(--main500);display:inline-block;vertical-align:middle;border-radius:4px;background-repeat:no-repeat;-webkit-background-position:center;background-position:center;}.css-kidynx:hover{background-color:#4171D6;}[data-theme=\"dark\"] .css-kidynx:hover{background-color:#81ACFF;}.css-kidynx:hover{background-repeat:no-repeat;-webkit-background-position:center;background-position:center;}.css-kidynx >*{display:inline-block;vertical-align:middle;}.css-kidynx:disabled{border:1px solid transparent;font-weight:normal;color:#C3CBD1;color:var(--gray300);background:#ebeef1;background:var(--gray200);}</style><button class=\"css-kidynx e1g0z3cq3\" type=\"button\">Total</button><style data-emotion=\"css lox99k\">.css-lox99k{font-size:14px;line-height:20px;padding:0 16px;height:40px;color:#202D37;color:var(--gray900);background-color:#FFF;background-color:var(--gray0);border:1px solid;border-color:#DBE0E4;border-color:var(--gray250);display:inline-block;vertical-align:middle;border-radius:4px;background-repeat:no-repeat;-webkit-background-position:center;background-position:center;}.css-lox99k:hover{background-color:#F7F7F9;background-color:var(--gray100);}.css-lox99k:hover{background-repeat:no-repeat;-webkit-background-position:center;background-position:center;}.css-lox99k >*{display:inline-block;vertical-align:middle;}.css-lox99k:disabled{border:1px solid transparent;font-weight:normal;color:#C3CBD1;color:var(--gray300);background:#ebeef1;background:var(--gray200);}</style><button class=\"css-lox99k e1g0z3cq3\" type=\"button\">Ranked Solo</button><button class=\"css-lox99k e1g0z3cq3\" type=\"button\">Ranked Flex</button><button class=\"css-lox99k e1g0z3cq3\" type=\"button\">Normal</button></div></div><style data-emotion=\"css 147gr6a\">.css-147gr6a{table-layout:auto;width:100%;border-radius:4px;}.css-147gr6a thead th:first-of-type{border-radius:4px 0 0 0;}.css-147gr6a thead th:last-of-type{border-radius:0 4px 0 0;}.css-147gr6a tbody tr:last-of-type td:first-of-type{border-radius:0 0 0 4px;}.css-147gr6a tbody tr:last-of-type td:last-of-type{border-radius:0 0 4px 0;}.css-147gr6a caption{display:none;}.css-147gr6a th,.css-147gr6a td{box-sizing:border-box;font-weight:normal;vertical-align:middle;padding:4px;}.css-147gr6a th:first-of-type,.css-147gr6a td:first-of-type{padding-left:12px;}.css-147gr6a th:last-of-type,.css-147gr6a td:last-of-type{padding-right:12px;}.css-147gr6a th.adTd,.css-147gr6a td.adTd{padding:0!important;}.css-147gr6a thead th,.css-147gr6a thead td{position:relative;height:32px;-webkit-user-select:none;-moz-user-select:none;-ms-user-select:none;user-select:none;background:#F7F7F9;background:var(--gray100);color:#9AA4AF;color:var(--gray400);font-size:12px;line-height:16px;border-bottom:1px solid;border-color:#ebeef1;border-color:var(--gray200);box-sizing:border-box;}.css-147gr6a tbody th,.css-147gr6a tbody td{text-align:center;border-bottom:1px solid;border-color:#ebeef1;border-color:var(--gray200);}.css-147gr6a tbody th[align=\"left\"],.css-147gr6a tbody td[align=\"left\"]{text-align:left;}.css-147gr6a tbody th[align=\"right\"],.css-147gr6a tbody td[align=\"right\"]{text-align:right;}.css-147gr6a tbody tr:last-of-type th,.css-147gr6a tbody tr:last-of-type td{border-bottom:0 none;}.css-147gr6a tbody tr:hover th,.css-147gr6a tbody tr:hover td{background:#F7F7F9;background:var(--gray100);}.css-147gr6a .green{color:#00BBA3;color:var(--teal500);}.css-147gr6a .blue{color:#0093FF;color:var(--blue500);}.css-147gr6a .orange{color:#FF8200;color:var(--orange500);}</style><table class=\"css-147gr6a exo2f213\"><caption>Summoner's Champion Information</caption><tbody><tr><style data-emotion=\"css 1wvfkid\">.css-1wvfkid{font-size:12px;line-height:16px;text-align:center!important;font-weight:normal;color:#57646F;color:var(--gray600);background:#FFF;background:var(--gray0);}.css-1wvfkid >*{display:inline-block;vertical-align:middle;}.css-1wvfkid strong{font-size:12px;font-weight:bold;color:#202D37;color:var(--gray900);}.css-1wvfkid small{font-size:12px;font-weight:normal;color:#758592;color:var(--gray500);}</style><td class=\"css-1wvfkid exo2f211\"><style data-emotion=\"css 1p6wbo1\">.css-1p6wbo1{height:300px;display:-webkit-box;display:-webkit-flex;display:-ms-flexbox;display:flex;-webkit-align-items:center;-webkit-box-align:center;-ms-flex-align:center;align-items:center;-webkit-box-pack:center;-ms-flex-pack:center;-webkit-justify-content:center;justify-content:center;}</style><div class=\"css-1p6wbo1 e7m7tjk2\"><style data-emotion=\"css 151wajb\">.css-151wajb{display:inline-block;width:18px;height:18px;border:2px solid #4171D6;border-top-color:transparent;border-radius:50%;-webkit-animation:spin 0.6s infinite;animation:spin 0.6s infinite;}@-webkit-keyframes spin{from{-webkit-transform:rotate(0deg);-moz-transform:rotate(0deg);-ms-transform:rotate(0deg);transform:rotate(0deg);}to{-webkit-transform:rotate(360deg);-moz-transform:rotate(360deg);-ms-transform:rotate(360deg);transform:rotate(360deg);}}@keyframes spin{from{-webkit-transform:rotate(0deg);-moz-transform:rotate(0deg);-ms-transform:rotate(0deg);transform:rotate(0deg);}to{-webkit-transform:rotate(360deg);-moz-transform:rotate(360deg);-ms-transform:rotate(360deg);transform:rotate(360deg);}}</style><span class=\"css-151wajb e1mnv9ea0\"></span></div></td></tr></tbody></table></div>\n"
     ]
    }
   ],
   "source": [
    "print(temp_container.find('div', {'class' : 'content'}))"
   ]
  }
 ],
 "metadata": {
  "kernelspec": {
   "display_name": "Python 3 (ipykernel)",
   "language": "python",
   "name": "python3"
  },
  "language_info": {
   "codemirror_mode": {
    "name": "ipython",
    "version": 3
   },
   "file_extension": ".py",
   "mimetype": "text/x-python",
   "name": "python",
   "nbconvert_exporter": "python",
   "pygments_lexer": "ipython3",
   "version": "3.9.12"
  }
 },
 "nbformat": 4,
 "nbformat_minor": 4
}
