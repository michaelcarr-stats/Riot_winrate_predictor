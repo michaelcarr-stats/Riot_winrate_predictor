{
 "cells": [
  {
   "cell_type": "code",
   "execution_count": 2,
   "metadata": {},
   "outputs": [],
   "source": [
    "import os\n",
    "from selenium import webdriver\n",
    "from selenium.webdriver.chrome.options import Options\n",
    "#from webdriver_manager.chrome import ChromeDriverManager\n",
    "from selenium.webdriver.support.ui import WebDriverWait\n",
    "from selenium.webdriver import ActionChains\n",
    "from selenium.webdriver.common.keys import Keys\n",
    "from selenium.webdriver.common.by import By\n",
    "\n",
    "#from profile_detail import profile\n",
    "#from match_detail import match\n",
    "\n",
    "import json # for testing\n",
    "\n",
    "driver = 0\n",
    "summonerName = 'CHIKAlNAl'\n",
    "queryMode = 'Total' # 'Ranked Solo', 'Ranked Flex'/'Ranked Flex 5v5'\n",
    "summonerData = {}\n",
    "\n",
    "def initDriver(url = 'https://u.gg/lol/profile/na1/cookiemonster123/champion-stats'):\n",
    "    # get initial html\n",
    "    driverpath = os.path.realpath(r'../drivers/chromedriver')\n",
    "\n",
    "    chrome_options = Options()  \n",
    "    chrome_options.add_argument(\"--incognito\")  \n",
    "\n",
    "    driver = webdriver.Chrome(driverpath, options=chrome_options)\n",
    "    driver.get(url)\n",
    "\n",
    "    return driver\n",
    "\n",
    "def refreshFullProfile():\n",
    "    # block [1] get last updated time for checking updated click for button\n",
    "    a = driver.find_element('class',\"update-button\")\n",
    "    print(a[0].text)\n",
    "\n",
    "    #updatebutton = driver.find_elements_by_id(\"SummonerRefreshButton\")[0]\n",
    "    #ActionChains(driver).click(updatebutton).perform()\n",
    "    ## WebDriverWait(driver, 15).until(a != driver.find_elements_by_class_name(\"LastUpdate\")[0].text)\n",
    "    #WebDriverWait(driver, 10).until(\n",
    "    #    lambda wd: a != driver.find_elements_by_class_name(\"LastUpdate\")[0].text\n",
    "    #)\n",
    "\n",
    "    # verify that [1] has changed\n",
    "    print('driver update successful: ', a == 'Last updated: a minute ago')\n"
   ]
  },
  {
   "cell_type": "code",
   "execution_count": 5,
   "metadata": {},
   "outputs": [
    {
     "name": "stderr",
     "output_type": "stream",
     "text": [
      "C:\\Users\\Lachlan Griffin\\AppData\\Local\\Temp\\ipykernel_19760\\884151696.py:27: DeprecationWarning: executable_path has been deprecated, please pass in a Service object\n",
      "  driver = webdriver.Chrome(driverpath, options=chrome_options)\n"
     ]
    }
   ],
   "source": [
    "driver = initDriver(url = 'https://www.op.gg/summoners/na/HULKSMASH1337/champions')"
   ]
  },
  {
   "cell_type": "code",
   "execution_count": 8,
   "metadata": {},
   "outputs": [
    {
     "data": {
      "text/plain": [
       "'Update'"
      ]
     },
     "execution_count": 8,
     "metadata": {},
     "output_type": "execute_result"
    }
   ],
   "source": [
    "driver.find_element(By.XPATH, '//button[normalize-space()=\"Update\"]').text"
   ]
  },
  {
   "cell_type": "code",
   "execution_count": 9,
   "metadata": {},
   "outputs": [
    {
     "data": {
      "text/plain": [
       "<selenium.webdriver.remote.webelement.WebElement (session=\"3ff0f72a696f31f0c22f9d97a91371c3\", element=\"b390d925-171e-4f9e-91cc-fad5c21a91cd\")>"
      ]
     },
     "execution_count": 9,
     "metadata": {},
     "output_type": "execute_result"
    }
   ],
   "source": [
    "driver.find_element(By.XPATH, '//button[normalize-space()=\"Ranked Solo\"]')"
   ]
  }
 ],
 "metadata": {
  "kernelspec": {
   "display_name": "base",
   "language": "python",
   "name": "python3"
  },
  "language_info": {
   "codemirror_mode": {
    "name": "ipython",
    "version": 3
   },
   "file_extension": ".py",
   "mimetype": "text/x-python",
   "name": "python",
   "nbconvert_exporter": "python",
   "pygments_lexer": "ipython3",
   "version": "3.8.3"
  },
  "orig_nbformat": 4,
  "vscode": {
   "interpreter": {
    "hash": "49cb93f377a7abe7414b7b0f21fb3017538004a126cf690fb524202736b7fb92"
   }
  }
 },
 "nbformat": 4,
 "nbformat_minor": 2
}
